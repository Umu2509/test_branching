{
 "cells": [
  {
   "cell_type": "code",
   "execution_count": 1,
   "metadata": {},
   "outputs": [],
   "source": [
    "#import the dependencies\n",
    "import pandas as pd\n",
    "import matplotlib.patches as mpatches\n",
    "import matplotlib.pyplot as plt\n",
    "import numpy as np"
   ]
  },
  {
   "cell_type": "code",
   "execution_count": 2,
   "metadata": {},
   "outputs": [],
   "source": [
    "#copy/paste the cleaning from previous jupyter notebook for consistency\n",
    "williamson_housing = \"williamson_data/williamson_housing.csv\"\n",
    "travis_occupancy = \"Travis_County_Data/Occupancy.csv\"\n",
    "hays_total_housing_units = \"hays_data/hays_total_housing_units.csv\"\n",
    "\n",
    "\n",
    "hays_total_housing_units_data_df = pd.read_csv(hays_total_housing_units,thousands = \",\")\n",
    "hays_total_housing_units_data_clean_df = hays_total_housing_units_data_df.dropna(how = \"any\")\n",
    "\n",
    "williamson_housing_data_df = pd.read_csv(williamson_housing,sep='\\t',thousands = \",\")\n",
    "\n",
    "travis_occupancy_data_df = pd.read_csv(travis_occupancy)\n"
   ]
  },
  {
   "cell_type": "code",
   "execution_count": 3,
   "metadata": {},
   "outputs": [
    {
     "data": {
      "text/html": [
       "<div>\n",
       "<style scoped>\n",
       "    .dataframe tbody tr th:only-of-type {\n",
       "        vertical-align: middle;\n",
       "    }\n",
       "\n",
       "    .dataframe tbody tr th {\n",
       "        vertical-align: top;\n",
       "    }\n",
       "\n",
       "    .dataframe thead th {\n",
       "        text-align: right;\n",
       "    }\n",
       "</style>\n",
       "<table border=\"1\" class=\"dataframe\">\n",
       "  <thead>\n",
       "    <tr style=\"text-align: right;\">\n",
       "      <th></th>\n",
       "      <th>HOUSING OCCUPANCY</th>\n",
       "      <th>2007</th>\n",
       "      <th>2008</th>\n",
       "      <th>2009</th>\n",
       "      <th>2010</th>\n",
       "      <th>2011</th>\n",
       "      <th>2012</th>\n",
       "      <th>2013</th>\n",
       "      <th>2014</th>\n",
       "      <th>2015</th>\n",
       "      <th>2016</th>\n",
       "    </tr>\n",
       "  </thead>\n",
       "  <tbody>\n",
       "    <tr>\n",
       "      <th>1</th>\n",
       "      <td>Occupied housing units</td>\n",
       "      <td>44803.0</td>\n",
       "      <td>47008.0</td>\n",
       "      <td>48709.0</td>\n",
       "      <td>54422.0</td>\n",
       "      <td>56754.0</td>\n",
       "      <td>57395.0</td>\n",
       "      <td>60739.0</td>\n",
       "      <td>63497.0</td>\n",
       "      <td>67346.0</td>\n",
       "      <td>71267.0</td>\n",
       "    </tr>\n",
       "  </tbody>\n",
       "</table>\n",
       "</div>"
      ],
      "text/plain": [
       "        HOUSING OCCUPANCY     2007     2008     2009     2010     2011  \\\n",
       "1  Occupied housing units  44803.0  47008.0  48709.0  54422.0  56754.0   \n",
       "\n",
       "      2012     2013     2014     2015     2016  \n",
       "1  57395.0  60739.0  63497.0  67346.0  71267.0  "
      ]
     },
     "execution_count": 3,
     "metadata": {},
     "output_type": "execute_result"
    }
   ],
   "source": [
    "#make df for occupied hays housing\n",
    "hays_total_housing_units_data_clean_df = hays_total_housing_units_data_clean_df.drop([\"2006\"], axis = 1)\n",
    "\n",
    "occupied_hays = hays_total_housing_units_data_clean_df.drop([0,2,3,4])\n",
    "\n",
    "occupied_hays"
   ]
  },
  {
   "cell_type": "code",
   "execution_count": 4,
   "metadata": {},
   "outputs": [
    {
     "data": {
      "text/html": [
       "<div>\n",
       "<style scoped>\n",
       "    .dataframe tbody tr th:only-of-type {\n",
       "        vertical-align: middle;\n",
       "    }\n",
       "\n",
       "    .dataframe tbody tr th {\n",
       "        vertical-align: top;\n",
       "    }\n",
       "\n",
       "    .dataframe thead th {\n",
       "        text-align: right;\n",
       "    }\n",
       "</style>\n",
       "<table border=\"1\" class=\"dataframe\">\n",
       "  <thead>\n",
       "    <tr style=\"text-align: right;\">\n",
       "      <th></th>\n",
       "      <th>HOUSING OCCUPANCY</th>\n",
       "      <th>2007</th>\n",
       "      <th>2008</th>\n",
       "      <th>2009</th>\n",
       "      <th>2010</th>\n",
       "      <th>2011</th>\n",
       "      <th>2012</th>\n",
       "      <th>2013</th>\n",
       "      <th>2014</th>\n",
       "      <th>2015</th>\n",
       "      <th>2016</th>\n",
       "    </tr>\n",
       "  </thead>\n",
       "  <tbody>\n",
       "    <tr>\n",
       "      <th>2</th>\n",
       "      <td>Vacant housing units</td>\n",
       "      <td>4583.0</td>\n",
       "      <td>4258.0</td>\n",
       "      <td>4467.0</td>\n",
       "      <td>5325.0</td>\n",
       "      <td>5079.0</td>\n",
       "      <td>6943.0</td>\n",
       "      <td>6568.0</td>\n",
       "      <td>7232.0</td>\n",
       "      <td>5631.0</td>\n",
       "      <td>4219.0</td>\n",
       "    </tr>\n",
       "  </tbody>\n",
       "</table>\n",
       "</div>"
      ],
      "text/plain": [
       "      HOUSING OCCUPANCY    2007    2008    2009    2010    2011    2012  \\\n",
       "2  Vacant housing units  4583.0  4258.0  4467.0  5325.0  5079.0  6943.0   \n",
       "\n",
       "     2013    2014    2015    2016  \n",
       "2  6568.0  7232.0  5631.0  4219.0  "
      ]
     },
     "execution_count": 4,
     "metadata": {},
     "output_type": "execute_result"
    }
   ],
   "source": [
    "#make df for just vacant hays housing\n",
    "vacant_hays = hays_total_housing_units_data_clean_df.drop([0,1,3,4])\n",
    "vacant_hays"
   ]
  },
  {
   "cell_type": "code",
   "execution_count": 5,
   "metadata": {},
   "outputs": [
    {
     "data": {
      "text/html": [
       "<div>\n",
       "<style scoped>\n",
       "    .dataframe tbody tr th:only-of-type {\n",
       "        vertical-align: middle;\n",
       "    }\n",
       "\n",
       "    .dataframe tbody tr th {\n",
       "        vertical-align: top;\n",
       "    }\n",
       "\n",
       "    .dataframe thead th {\n",
       "        text-align: right;\n",
       "    }\n",
       "</style>\n",
       "<table border=\"1\" class=\"dataframe\">\n",
       "  <thead>\n",
       "    <tr style=\"text-align: right;\">\n",
       "      <th></th>\n",
       "      <th>HOUSING OCCUPANCY</th>\n",
       "      <th>2007</th>\n",
       "      <th>2008</th>\n",
       "      <th>2009</th>\n",
       "      <th>2010</th>\n",
       "      <th>2011</th>\n",
       "      <th>2012</th>\n",
       "      <th>2013</th>\n",
       "      <th>2014</th>\n",
       "      <th>2015</th>\n",
       "      <th>2016</th>\n",
       "    </tr>\n",
       "  </thead>\n",
       "  <tbody>\n",
       "    <tr>\n",
       "      <th>1</th>\n",
       "      <td>Occupied housing units</td>\n",
       "      <td>121899.0</td>\n",
       "      <td>127842.0</td>\n",
       "      <td>132992.0</td>\n",
       "      <td>152739.0</td>\n",
       "      <td>156738.0</td>\n",
       "      <td>156215.0</td>\n",
       "      <td>161887.0</td>\n",
       "      <td>164805.0</td>\n",
       "      <td>170987.0</td>\n",
       "      <td>173125.0</td>\n",
       "    </tr>\n",
       "  </tbody>\n",
       "</table>\n",
       "</div>"
      ],
      "text/plain": [
       "        HOUSING OCCUPANCY      2007      2008      2009      2010      2011  \\\n",
       "1  Occupied housing units  121899.0  127842.0  132992.0  152739.0  156738.0   \n",
       "\n",
       "       2012      2013      2014      2015      2016  \n",
       "1  156215.0  161887.0  164805.0  170987.0  173125.0  "
      ]
     },
     "execution_count": 5,
     "metadata": {},
     "output_type": "execute_result"
    }
   ],
   "source": [
    "#make df for occupied williamson\n",
    "occupied_williamson = williamson_housing_data_df.drop([0,2,3,4])\n",
    "occupied_williamson"
   ]
  },
  {
   "cell_type": "code",
   "execution_count": 6,
   "metadata": {},
   "outputs": [
    {
     "data": {
      "text/html": [
       "<div>\n",
       "<style scoped>\n",
       "    .dataframe tbody tr th:only-of-type {\n",
       "        vertical-align: middle;\n",
       "    }\n",
       "\n",
       "    .dataframe tbody tr th {\n",
       "        vertical-align: top;\n",
       "    }\n",
       "\n",
       "    .dataframe thead th {\n",
       "        text-align: right;\n",
       "    }\n",
       "</style>\n",
       "<table border=\"1\" class=\"dataframe\">\n",
       "  <thead>\n",
       "    <tr style=\"text-align: right;\">\n",
       "      <th></th>\n",
       "      <th>HOUSING OCCUPANCY</th>\n",
       "      <th>2007</th>\n",
       "      <th>2008</th>\n",
       "      <th>2009</th>\n",
       "      <th>2010</th>\n",
       "      <th>2011</th>\n",
       "      <th>2012</th>\n",
       "      <th>2013</th>\n",
       "      <th>2014</th>\n",
       "      <th>2015</th>\n",
       "      <th>2016</th>\n",
       "    </tr>\n",
       "  </thead>\n",
       "  <tbody>\n",
       "    <tr>\n",
       "      <th>2</th>\n",
       "      <td>Vacant housing units</td>\n",
       "      <td>9274.0</td>\n",
       "      <td>9109.0</td>\n",
       "      <td>9245.0</td>\n",
       "      <td>10525.0</td>\n",
       "      <td>11785.0</td>\n",
       "      <td>10988.0</td>\n",
       "      <td>9257.0</td>\n",
       "      <td>10868.0</td>\n",
       "      <td>10013.0</td>\n",
       "      <td>13850.0</td>\n",
       "    </tr>\n",
       "  </tbody>\n",
       "</table>\n",
       "</div>"
      ],
      "text/plain": [
       "      HOUSING OCCUPANCY    2007    2008    2009     2010     2011     2012  \\\n",
       "2  Vacant housing units  9274.0  9109.0  9245.0  10525.0  11785.0  10988.0   \n",
       "\n",
       "     2013     2014     2015     2016  \n",
       "2  9257.0  10868.0  10013.0  13850.0  "
      ]
     },
     "execution_count": 6,
     "metadata": {},
     "output_type": "execute_result"
    }
   ],
   "source": [
    "#make df for vacant williamson\n",
    "vacant_williamson = williamson_housing_data_df.drop([0,1,3,4])\n",
    "vacant_williamson"
   ]
  },
  {
   "cell_type": "code",
   "execution_count": 7,
   "metadata": {},
   "outputs": [
    {
     "data": {
      "text/html": [
       "<div>\n",
       "<style scoped>\n",
       "    .dataframe tbody tr th:only-of-type {\n",
       "        vertical-align: middle;\n",
       "    }\n",
       "\n",
       "    .dataframe tbody tr th {\n",
       "        vertical-align: top;\n",
       "    }\n",
       "\n",
       "    .dataframe thead th {\n",
       "        text-align: right;\n",
       "    }\n",
       "</style>\n",
       "<table border=\"1\" class=\"dataframe\">\n",
       "  <thead>\n",
       "    <tr style=\"text-align: right;\">\n",
       "      <th></th>\n",
       "      <th>HOUSING OCCUPANCY</th>\n",
       "      <th>2006</th>\n",
       "      <th>2007</th>\n",
       "      <th>2008</th>\n",
       "      <th>2009</th>\n",
       "      <th>2010</th>\n",
       "      <th>2011</th>\n",
       "      <th>2012</th>\n",
       "      <th>2013</th>\n",
       "      <th>2014</th>\n",
       "      <th>2015</th>\n",
       "      <th>2016</th>\n",
       "    </tr>\n",
       "  </thead>\n",
       "  <tbody>\n",
       "    <tr>\n",
       "      <th>1</th>\n",
       "      <td>Occupied housing units</td>\n",
       "      <td>366784.0</td>\n",
       "      <td>368578.0</td>\n",
       "      <td>381307.0</td>\n",
       "      <td>391589.0</td>\n",
       "      <td>403638.0</td>\n",
       "      <td>410683.0</td>\n",
       "      <td>414318.0</td>\n",
       "      <td>428889.0</td>\n",
       "      <td>437375.0</td>\n",
       "      <td>446342.0</td>\n",
       "      <td>457810.0</td>\n",
       "    </tr>\n",
       "  </tbody>\n",
       "</table>\n",
       "</div>"
      ],
      "text/plain": [
       "        HOUSING OCCUPANCY      2006      2007      2008      2009      2010  \\\n",
       "1  Occupied housing units  366784.0  368578.0  381307.0  391589.0  403638.0   \n",
       "\n",
       "       2011      2012      2013      2014      2015      2016  \n",
       "1  410683.0  414318.0  428889.0  437375.0  446342.0  457810.0  "
      ]
     },
     "execution_count": 7,
     "metadata": {},
     "output_type": "execute_result"
    }
   ],
   "source": [
    "#make df for occupied travis\n",
    "occupied_travis = travis_occupancy_data_df.drop([0,2,3,4])\n",
    "occupied_travis"
   ]
  },
  {
   "cell_type": "code",
   "execution_count": 8,
   "metadata": {},
   "outputs": [
    {
     "data": {
      "text/html": [
       "<div>\n",
       "<style scoped>\n",
       "    .dataframe tbody tr th:only-of-type {\n",
       "        vertical-align: middle;\n",
       "    }\n",
       "\n",
       "    .dataframe tbody tr th {\n",
       "        vertical-align: top;\n",
       "    }\n",
       "\n",
       "    .dataframe thead th {\n",
       "        text-align: right;\n",
       "    }\n",
       "</style>\n",
       "<table border=\"1\" class=\"dataframe\">\n",
       "  <thead>\n",
       "    <tr style=\"text-align: right;\">\n",
       "      <th></th>\n",
       "      <th>HOUSING OCCUPANCY</th>\n",
       "      <th>2006</th>\n",
       "      <th>2007</th>\n",
       "      <th>2008</th>\n",
       "      <th>2009</th>\n",
       "      <th>2010</th>\n",
       "      <th>2011</th>\n",
       "      <th>2012</th>\n",
       "      <th>2013</th>\n",
       "      <th>2014</th>\n",
       "      <th>2015</th>\n",
       "      <th>2016</th>\n",
       "    </tr>\n",
       "  </thead>\n",
       "  <tbody>\n",
       "    <tr>\n",
       "      <th>2</th>\n",
       "      <td>Vacant housing units</td>\n",
       "      <td>38051.0</td>\n",
       "      <td>36703.0</td>\n",
       "      <td>37118.0</td>\n",
       "      <td>36557.0</td>\n",
       "      <td>38697.0</td>\n",
       "      <td>36442.0</td>\n",
       "      <td>36558.0</td>\n",
       "      <td>32662.0</td>\n",
       "      <td>37582.0</td>\n",
       "      <td>40202.0</td>\n",
       "      <td>41223.0</td>\n",
       "    </tr>\n",
       "  </tbody>\n",
       "</table>\n",
       "</div>"
      ],
      "text/plain": [
       "      HOUSING OCCUPANCY     2006     2007     2008     2009     2010     2011  \\\n",
       "2  Vacant housing units  38051.0  36703.0  37118.0  36557.0  38697.0  36442.0   \n",
       "\n",
       "      2012     2013     2014     2015     2016  \n",
       "2  36558.0  32662.0  37582.0  40202.0  41223.0  "
      ]
     },
     "execution_count": 8,
     "metadata": {},
     "output_type": "execute_result"
    }
   ],
   "source": [
    "#make df for vacant travis\n",
    "vacant_travis = travis_occupancy_data_df.drop([0,1,3,4])\n",
    "vacant_travis"
   ]
  },
  {
   "cell_type": "code",
   "execution_count": 9,
   "metadata": {},
   "outputs": [
    {
     "data": {
      "text/html": [
       "<div>\n",
       "<style scoped>\n",
       "    .dataframe tbody tr th:only-of-type {\n",
       "        vertical-align: middle;\n",
       "    }\n",
       "\n",
       "    .dataframe tbody tr th {\n",
       "        vertical-align: top;\n",
       "    }\n",
       "\n",
       "    .dataframe thead th {\n",
       "        text-align: right;\n",
       "    }\n",
       "</style>\n",
       "<table border=\"1\" class=\"dataframe\">\n",
       "  <thead>\n",
       "    <tr style=\"text-align: right;\">\n",
       "      <th></th>\n",
       "      <th>2007</th>\n",
       "      <th>2008</th>\n",
       "      <th>2009</th>\n",
       "      <th>2010</th>\n",
       "      <th>2011</th>\n",
       "      <th>2012</th>\n",
       "      <th>2013</th>\n",
       "      <th>2014</th>\n",
       "      <th>2015</th>\n",
       "      <th>2016</th>\n",
       "    </tr>\n",
       "  </thead>\n",
       "  <tbody>\n",
       "    <tr>\n",
       "      <th>0</th>\n",
       "      <td>368578.0</td>\n",
       "      <td>381307.0</td>\n",
       "      <td>391589.0</td>\n",
       "      <td>403638.0</td>\n",
       "      <td>410683.0</td>\n",
       "      <td>414318.0</td>\n",
       "      <td>428889.0</td>\n",
       "      <td>437375.0</td>\n",
       "      <td>446342.0</td>\n",
       "      <td>457810.0</td>\n",
       "    </tr>\n",
       "    <tr>\n",
       "      <th>1</th>\n",
       "      <td>121899.0</td>\n",
       "      <td>127842.0</td>\n",
       "      <td>132992.0</td>\n",
       "      <td>152739.0</td>\n",
       "      <td>156738.0</td>\n",
       "      <td>156215.0</td>\n",
       "      <td>161887.0</td>\n",
       "      <td>164805.0</td>\n",
       "      <td>170987.0</td>\n",
       "      <td>173125.0</td>\n",
       "    </tr>\n",
       "    <tr>\n",
       "      <th>2</th>\n",
       "      <td>44803.0</td>\n",
       "      <td>47008.0</td>\n",
       "      <td>48709.0</td>\n",
       "      <td>54422.0</td>\n",
       "      <td>56754.0</td>\n",
       "      <td>57395.0</td>\n",
       "      <td>60739.0</td>\n",
       "      <td>63497.0</td>\n",
       "      <td>67346.0</td>\n",
       "      <td>71267.0</td>\n",
       "    </tr>\n",
       "  </tbody>\n",
       "</table>\n",
       "</div>"
      ],
      "text/plain": [
       "       2007      2008      2009      2010      2011      2012      2013  \\\n",
       "0  368578.0  381307.0  391589.0  403638.0  410683.0  414318.0  428889.0   \n",
       "1  121899.0  127842.0  132992.0  152739.0  156738.0  156215.0  161887.0   \n",
       "2   44803.0   47008.0   48709.0   54422.0   56754.0   57395.0   60739.0   \n",
       "\n",
       "       2014      2015      2016  \n",
       "0  437375.0  446342.0  457810.0  \n",
       "1  164805.0  170987.0  173125.0  \n",
       "2   63497.0   67346.0   71267.0  "
      ]
     },
     "execution_count": 9,
     "metadata": {},
     "output_type": "execute_result"
    }
   ],
   "source": [
    "#make a df for total occupied housing\n",
    "total_occupied = pd.concat([occupied_travis,occupied_williamson,occupied_hays], ignore_index = True)\n",
    "total_occupied = total_occupied.drop([\"2006\",\"HOUSING OCCUPANCY\"], axis = 1) \n",
    "total_occupied"
   ]
  },
  {
   "cell_type": "code",
   "execution_count": 10,
   "metadata": {},
   "outputs": [
    {
     "data": {
      "text/plain": [
       "2007    535280.0\n",
       "2008    556157.0\n",
       "2009    573290.0\n",
       "2010    610799.0\n",
       "2011    624175.0\n",
       "2012    627928.0\n",
       "2013    651515.0\n",
       "2014    665677.0\n",
       "2015    684675.0\n",
       "2016    702202.0\n",
       "dtype: float64"
      ]
     },
     "execution_count": 10,
     "metadata": {},
     "output_type": "execute_result"
    }
   ],
   "source": [
    "#get sums of occupied for plotting\n",
    "occupied_sums = total_occupied.sum(axis = 0)\n",
    "occupied_sums"
   ]
  },
  {
   "cell_type": "code",
   "execution_count": 11,
   "metadata": {},
   "outputs": [
    {
     "data": {
      "text/html": [
       "<div>\n",
       "<style scoped>\n",
       "    .dataframe tbody tr th:only-of-type {\n",
       "        vertical-align: middle;\n",
       "    }\n",
       "\n",
       "    .dataframe tbody tr th {\n",
       "        vertical-align: top;\n",
       "    }\n",
       "\n",
       "    .dataframe thead th {\n",
       "        text-align: right;\n",
       "    }\n",
       "</style>\n",
       "<table border=\"1\" class=\"dataframe\">\n",
       "  <thead>\n",
       "    <tr style=\"text-align: right;\">\n",
       "      <th></th>\n",
       "      <th>2007</th>\n",
       "      <th>2008</th>\n",
       "      <th>2009</th>\n",
       "      <th>2010</th>\n",
       "      <th>2011</th>\n",
       "      <th>2012</th>\n",
       "      <th>2013</th>\n",
       "      <th>2014</th>\n",
       "      <th>2015</th>\n",
       "      <th>2016</th>\n",
       "    </tr>\n",
       "  </thead>\n",
       "  <tbody>\n",
       "    <tr>\n",
       "      <th>0</th>\n",
       "      <td>36703.0</td>\n",
       "      <td>37118.0</td>\n",
       "      <td>36557.0</td>\n",
       "      <td>38697.0</td>\n",
       "      <td>36442.0</td>\n",
       "      <td>36558.0</td>\n",
       "      <td>32662.0</td>\n",
       "      <td>37582.0</td>\n",
       "      <td>40202.0</td>\n",
       "      <td>41223.0</td>\n",
       "    </tr>\n",
       "    <tr>\n",
       "      <th>1</th>\n",
       "      <td>9274.0</td>\n",
       "      <td>9109.0</td>\n",
       "      <td>9245.0</td>\n",
       "      <td>10525.0</td>\n",
       "      <td>11785.0</td>\n",
       "      <td>10988.0</td>\n",
       "      <td>9257.0</td>\n",
       "      <td>10868.0</td>\n",
       "      <td>10013.0</td>\n",
       "      <td>13850.0</td>\n",
       "    </tr>\n",
       "    <tr>\n",
       "      <th>2</th>\n",
       "      <td>4583.0</td>\n",
       "      <td>4258.0</td>\n",
       "      <td>4467.0</td>\n",
       "      <td>5325.0</td>\n",
       "      <td>5079.0</td>\n",
       "      <td>6943.0</td>\n",
       "      <td>6568.0</td>\n",
       "      <td>7232.0</td>\n",
       "      <td>5631.0</td>\n",
       "      <td>4219.0</td>\n",
       "    </tr>\n",
       "  </tbody>\n",
       "</table>\n",
       "</div>"
      ],
      "text/plain": [
       "      2007     2008     2009     2010     2011     2012     2013     2014  \\\n",
       "0  36703.0  37118.0  36557.0  38697.0  36442.0  36558.0  32662.0  37582.0   \n",
       "1   9274.0   9109.0   9245.0  10525.0  11785.0  10988.0   9257.0  10868.0   \n",
       "2   4583.0   4258.0   4467.0   5325.0   5079.0   6943.0   6568.0   7232.0   \n",
       "\n",
       "      2015     2016  \n",
       "0  40202.0  41223.0  \n",
       "1  10013.0  13850.0  \n",
       "2   5631.0   4219.0  "
      ]
     },
     "execution_count": 11,
     "metadata": {},
     "output_type": "execute_result"
    }
   ],
   "source": [
    "#make total vacant df\n",
    "total_vacant = pd.concat([vacant_travis,vacant_williamson,vacant_hays], ignore_index = True)\n",
    "total_vacant = total_vacant.drop([\"2006\",\"HOUSING OCCUPANCY\"], axis = 1) \n",
    "total_vacant"
   ]
  },
  {
   "cell_type": "code",
   "execution_count": 12,
   "metadata": {},
   "outputs": [
    {
     "data": {
      "text/plain": [
       "2007    50560.0\n",
       "2008    50485.0\n",
       "2009    50269.0\n",
       "2010    54547.0\n",
       "2011    53306.0\n",
       "2012    54489.0\n",
       "2013    48487.0\n",
       "2014    55682.0\n",
       "2015    55846.0\n",
       "2016    59292.0\n",
       "dtype: float64"
      ]
     },
     "execution_count": 12,
     "metadata": {},
     "output_type": "execute_result"
    }
   ],
   "source": [
    "#get sums of vacant for plotting\n",
    "vacant_sums = total_vacant.sum(axis = 0)\n",
    "vacant_sums"
   ]
  },
  {
   "cell_type": "code",
   "execution_count": 13,
   "metadata": {},
   "outputs": [
    {
     "data": {
      "text/html": [
       "<div>\n",
       "<style scoped>\n",
       "    .dataframe tbody tr th:only-of-type {\n",
       "        vertical-align: middle;\n",
       "    }\n",
       "\n",
       "    .dataframe tbody tr th {\n",
       "        vertical-align: top;\n",
       "    }\n",
       "\n",
       "    .dataframe thead th {\n",
       "        text-align: right;\n",
       "    }\n",
       "</style>\n",
       "<table border=\"1\" class=\"dataframe\">\n",
       "  <thead>\n",
       "    <tr style=\"text-align: right;\">\n",
       "      <th></th>\n",
       "      <th>Census Year</th>\n",
       "      <th>Total Occupied</th>\n",
       "      <th>Total Vacant</th>\n",
       "      <th>Total Units</th>\n",
       "    </tr>\n",
       "  </thead>\n",
       "  <tbody>\n",
       "    <tr>\n",
       "      <th>0</th>\n",
       "      <td>2007</td>\n",
       "      <td>535280</td>\n",
       "      <td>50560</td>\n",
       "      <td>585840</td>\n",
       "    </tr>\n",
       "    <tr>\n",
       "      <th>1</th>\n",
       "      <td>2008</td>\n",
       "      <td>556157</td>\n",
       "      <td>50485</td>\n",
       "      <td>606642</td>\n",
       "    </tr>\n",
       "    <tr>\n",
       "      <th>2</th>\n",
       "      <td>2009</td>\n",
       "      <td>573290</td>\n",
       "      <td>50269</td>\n",
       "      <td>623559</td>\n",
       "    </tr>\n",
       "    <tr>\n",
       "      <th>3</th>\n",
       "      <td>2010</td>\n",
       "      <td>610799</td>\n",
       "      <td>54547</td>\n",
       "      <td>665346</td>\n",
       "    </tr>\n",
       "    <tr>\n",
       "      <th>4</th>\n",
       "      <td>2011</td>\n",
       "      <td>624175</td>\n",
       "      <td>53306</td>\n",
       "      <td>677481</td>\n",
       "    </tr>\n",
       "    <tr>\n",
       "      <th>5</th>\n",
       "      <td>2012</td>\n",
       "      <td>627928</td>\n",
       "      <td>54489</td>\n",
       "      <td>682417</td>\n",
       "    </tr>\n",
       "    <tr>\n",
       "      <th>6</th>\n",
       "      <td>2013</td>\n",
       "      <td>651515</td>\n",
       "      <td>48487</td>\n",
       "      <td>700002</td>\n",
       "    </tr>\n",
       "    <tr>\n",
       "      <th>7</th>\n",
       "      <td>2014</td>\n",
       "      <td>665677</td>\n",
       "      <td>55682</td>\n",
       "      <td>721359</td>\n",
       "    </tr>\n",
       "    <tr>\n",
       "      <th>8</th>\n",
       "      <td>2015</td>\n",
       "      <td>684675</td>\n",
       "      <td>55846</td>\n",
       "      <td>740521</td>\n",
       "    </tr>\n",
       "    <tr>\n",
       "      <th>9</th>\n",
       "      <td>2016</td>\n",
       "      <td>702202</td>\n",
       "      <td>59292</td>\n",
       "      <td>761494</td>\n",
       "    </tr>\n",
       "  </tbody>\n",
       "</table>\n",
       "</div>"
      ],
      "text/plain": [
       "   Census Year  Total Occupied  Total Vacant  Total Units\n",
       "0         2007          535280         50560       585840\n",
       "1         2008          556157         50485       606642\n",
       "2         2009          573290         50269       623559\n",
       "3         2010          610799         54547       665346\n",
       "4         2011          624175         53306       677481\n",
       "5         2012          627928         54489       682417\n",
       "6         2013          651515         48487       700002\n",
       "7         2014          665677         55682       721359\n",
       "8         2015          684675         55846       740521\n",
       "9         2016          702202         59292       761494"
      ]
     },
     "execution_count": 13,
     "metadata": {},
     "output_type": "execute_result"
    }
   ],
   "source": [
    "\n",
    "data = {\"Census Year\" : [2007,2008,2009,2010,2011,2012,2013,2014,2015,2016],\n",
    "        \"Total Occupied\" : [535280,556157,573290,610799,624175,627928,651515,665677,684675,702202],\n",
    "        \"Total Vacant\" : [50560,50485,50269,54547,53306,54489,48487,55682,55846,59292]}\n",
    "total_occupied_vacant_df = pd.DataFrame(data)\n",
    "total_occupied_vacant_df[\"Total Units\"] = total_occupied_vacant_df[\"Total Occupied\"] + total_occupied_vacant_df[\"Total Vacant\"]\n",
    "total_occupied_vacant_df"
   ]
  },
  {
   "cell_type": "code",
   "execution_count": 14,
   "metadata": {},
   "outputs": [
    {
     "data": {
      "text/html": [
       "<div>\n",
       "<style scoped>\n",
       "    .dataframe tbody tr th:only-of-type {\n",
       "        vertical-align: middle;\n",
       "    }\n",
       "\n",
       "    .dataframe tbody tr th {\n",
       "        vertical-align: top;\n",
       "    }\n",
       "\n",
       "    .dataframe thead th {\n",
       "        text-align: right;\n",
       "    }\n",
       "</style>\n",
       "<table border=\"1\" class=\"dataframe\">\n",
       "  <thead>\n",
       "    <tr style=\"text-align: right;\">\n",
       "      <th></th>\n",
       "      <th>Census Year</th>\n",
       "      <th>Total Occupied</th>\n",
       "      <th>Total Vacant</th>\n",
       "    </tr>\n",
       "  </thead>\n",
       "  <tbody>\n",
       "    <tr>\n",
       "      <th>0</th>\n",
       "      <td>2007</td>\n",
       "      <td>535280</td>\n",
       "      <td>50560</td>\n",
       "    </tr>\n",
       "    <tr>\n",
       "      <th>1</th>\n",
       "      <td>2008</td>\n",
       "      <td>556157</td>\n",
       "      <td>50485</td>\n",
       "    </tr>\n",
       "    <tr>\n",
       "      <th>2</th>\n",
       "      <td>2009</td>\n",
       "      <td>573290</td>\n",
       "      <td>50269</td>\n",
       "    </tr>\n",
       "    <tr>\n",
       "      <th>3</th>\n",
       "      <td>2010</td>\n",
       "      <td>610799</td>\n",
       "      <td>54547</td>\n",
       "    </tr>\n",
       "    <tr>\n",
       "      <th>4</th>\n",
       "      <td>2011</td>\n",
       "      <td>624175</td>\n",
       "      <td>53306</td>\n",
       "    </tr>\n",
       "    <tr>\n",
       "      <th>5</th>\n",
       "      <td>2012</td>\n",
       "      <td>627928</td>\n",
       "      <td>54489</td>\n",
       "    </tr>\n",
       "    <tr>\n",
       "      <th>6</th>\n",
       "      <td>2013</td>\n",
       "      <td>651515</td>\n",
       "      <td>48487</td>\n",
       "    </tr>\n",
       "    <tr>\n",
       "      <th>7</th>\n",
       "      <td>2014</td>\n",
       "      <td>665677</td>\n",
       "      <td>55682</td>\n",
       "    </tr>\n",
       "    <tr>\n",
       "      <th>8</th>\n",
       "      <td>2015</td>\n",
       "      <td>684675</td>\n",
       "      <td>55846</td>\n",
       "    </tr>\n",
       "    <tr>\n",
       "      <th>9</th>\n",
       "      <td>2016</td>\n",
       "      <td>702202</td>\n",
       "      <td>59292</td>\n",
       "    </tr>\n",
       "  </tbody>\n",
       "</table>\n",
       "</div>"
      ],
      "text/plain": [
       "   Census Year  Total Occupied  Total Vacant\n",
       "0         2007          535280         50560\n",
       "1         2008          556157         50485\n",
       "2         2009          573290         50269\n",
       "3         2010          610799         54547\n",
       "4         2011          624175         53306\n",
       "5         2012          627928         54489\n",
       "6         2013          651515         48487\n",
       "7         2014          665677         55682\n",
       "8         2015          684675         55846\n",
       "9         2016          702202         59292"
      ]
     },
     "execution_count": 14,
     "metadata": {},
     "output_type": "execute_result"
    }
   ],
   "source": [
    "#remove unnecessary stuff for plotting\n",
    "total_occupied_clean = total_occupied_vacant_df.drop([\"Total Units\"], axis = 1)\n",
    "total_occupied_clean "
   ]
  },
  {
   "cell_type": "code",
   "execution_count": 15,
   "metadata": {},
   "outputs": [],
   "source": [
    "# #setup values for 2007 occupied vs vacant\n",
    "# values = [535280,50560]\n",
    "# labels = [\"Occupied\" , \"Vacant\"]\n",
    "# plt.pie(values,autopct='%1.1f%%' , startangle=90 )"
   ]
  },
  {
   "cell_type": "code",
   "execution_count": 16,
   "metadata": {},
   "outputs": [],
   "source": [
    "# plt.title(\"Austin 2007 Occupied vs Vacant\")\n",
    "# plt.legend(labels=labels,loc=\"best\")\n",
    "# plt.axis('equal')\n",
    "# plt.savefig(\"Austin_2007_Occupied_vs_Vacant.png\")\n"
   ]
  },
  {
   "cell_type": "code",
   "execution_count": 17,
   "metadata": {},
   "outputs": [],
   "source": [
    "# plt.show()"
   ]
  },
  {
   "cell_type": "code",
   "execution_count": 18,
   "metadata": {},
   "outputs": [],
   "source": [
    "# #set up values for 2016 occupied vs vacant\n",
    "# values = [702202,59292]\n",
    "# labels = [\"Occupied\" , \"Vacant\"]\n",
    "# plt.pie(values,autopct='%1.1f%%' , startangle=90 )\n"
   ]
  },
  {
   "cell_type": "code",
   "execution_count": 19,
   "metadata": {},
   "outputs": [],
   "source": [
    "# plt.title(\"Austin 2016 Occupied vs Vacant\")\n",
    "# plt.legend(labels=labels,loc=\"best\")\n",
    "# plt.axis('equal')"
   ]
  },
  {
   "cell_type": "code",
   "execution_count": 20,
   "metadata": {},
   "outputs": [],
   "source": [
    "# plt.savefig(\"Austin_2016_occupied_vs_vacant.png\")"
   ]
  },
  {
   "cell_type": "code",
   "execution_count": 21,
   "metadata": {},
   "outputs": [],
   "source": [
    "# plt.show()"
   ]
  },
  {
   "cell_type": "code",
   "execution_count": 22,
   "metadata": {},
   "outputs": [],
   "source": [
    "total_vacant_num = [ 50560,  50485,  50269,  54547,  53306,  54489,  48487,\n",
    "        55682,  55846,  59292]\n",
    "total_occupied_num = [ 535280,  556157,  573290,  610799,  624175,  627928,\n",
    "        651515,  665677,  684675,  702202]\n",
    "ratios = [91.37, 91.67,91.94,91.80,92.13,92.01,93.07,92.28,92.45\n",
    "         ,92.21]"
   ]
  },
  {
   "cell_type": "code",
   "execution_count": 23,
   "metadata": {},
   "outputs": [],
   "source": [
    "x_axis = np.arange(len(total_vacant_num))\n",
    "\n",
    "ax1 = plt.bar(x_axis, total_vacant_num, color = \"r\")\n",
    "ax2 = plt.bar(x_axis, total_occupied_num, bottom = total_vacant_num, color = \"b\")"
   ]
  },
  {
   "cell_type": "code",
   "execution_count": 24,
   "metadata": {},
   "outputs": [],
   "source": [
    "for r1, r2 in zip(ax1, ax2):\n",
    "    h1 = r1.get_height()\n",
    "    h2 = r2.get_height()\n",
    "    plt.text(r1.get_x() + r1.get_width() / 2., h1 / 2., \"%d\" % h1, ha=\"center\", va=\"bottom\", color=\"black\", fontsize=6, fontweight=\"bold\")\n",
    "    plt.text(r2.get_x() + r2.get_width() / 2., h1 + h2 / 2., \"%d\" % h2, ha=\"center\", va=\"bottom\", color=\"black\", fontsize=6, fontweight=\"bold\")"
   ]
  },
  {
   "cell_type": "code",
   "execution_count": 25,
   "metadata": {},
   "outputs": [
    {
     "data": {
      "text/plain": [
       "Text(0.5,1,'Total House Occupancy in Austin')"
      ]
     },
     "execution_count": 25,
     "metadata": {},
     "output_type": "execute_result"
    }
   ],
   "source": [
    "plt.xticks(x_axis, [\"2007\",\"2008\",\"2009\",\"2010\",\"2011\",\"2012\",\"2013\",\"2014\",\"2015\",\"2016\"])\n",
    "plt.ylim(0,775000,100000)\n",
    "plt.xlabel(\"Year\")\n",
    "plt.ylabel(\"Number of Houses\")\n",
    "plt.title(\"Total House Occupancy in Austin\")"
   ]
  },
  {
   "cell_type": "code",
   "execution_count": 26,
   "metadata": {},
   "outputs": [
    {
     "data": {
      "text/plain": [
       "<matplotlib.legend.Legend at 0x110591438>"
      ]
     },
     "execution_count": 26,
     "metadata": {},
     "output_type": "execute_result"
    }
   ],
   "source": [
    "#for legend\n",
    "red_patch = mpatches.Patch(color = \"r\", label = \"Vacant\")\n",
    "blue_patch = mpatches.Patch(color = \"b\", label = \"Occupied\")\n",
    "plt.legend(handles = [blue_patch,red_patch], loc = \"best\")"
   ]
  },
  {
   "cell_type": "code",
   "execution_count": 27,
   "metadata": {},
   "outputs": [],
   "source": [
    "plt.savefig(\"Saved_Pngs/total_occupancy_bar_chart.png\")"
   ]
  },
  {
   "cell_type": "code",
   "execution_count": 28,
   "metadata": {},
   "outputs": [
    {
     "data": {
      "image/png": "[encoded data removed]",
      "text/plain": [
       "<matplotlib.figure.Figure at 0x1075e60b8>"
      ]
     },
     "metadata": {},
     "output_type": "display_data"
    }
   ],
   "source": [
    "plt.show()"
   ]
  },
  {
   "cell_type": "code",
   "execution_count": null,
   "metadata": {},
   "outputs": [],
   "source": []
  },
  {
   "cell_type": "code",
   "execution_count": null,
   "metadata": {},
   "outputs": [],
   "source": []
  },
  {
   "cell_type": "code",
   "execution_count": null,
   "metadata": {},
   "outputs": [],
   "source": []
  }
 ],
 "metadata": {
  "kernelspec": {
   "display_name": "Python 3",
   "language": "python",
   "name": "python3"
  },
  "language_info": {
   "codemirror_mode": {
    "name": "ipython",
    "version": 3
   },
   "file_extension": ".py",
   "mimetype": "text/x-python",
   "name": "python",
   "nbconvert_exporter": "python",
   "pygments_lexer": "ipython3",
   "version": "3.6.3"
  }
 },
 "nbformat": 4,
 "nbformat_minor": 2
}
