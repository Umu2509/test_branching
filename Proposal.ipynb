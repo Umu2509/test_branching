{
 "cells": [
  {
   "cell_type": "markdown",
   "metadata": {},
   "source": [
    "The Housing Crisis in Austin\n",
    "\n",
    "For our project, we'd like to understand why housing costs in Austin have gotten so high, and what variables are contributing to this increase?\n",
    "\n",
    "Phases:\n",
    "\n",
    "Phase 1:\n",
    "0: Introduction - why we wanna do it.. our inspiration. \n",
    "1: Explore Austin vs. surrounding areas (data source and API: austin.gov)\n",
    "2: Measure growth of austin over the decade (houseprice , rent, jobs(avg salary), crimes, traffic, gdp) coming areas(zipcodes, isds) \n",
    "\n",
    "Phase 2: (try api from zillow , airbnb)\n",
    "\n",
    "Phase 3: (how many airlines increased/decrease direct flight to austin/car sales)\n",
    "3: Plots to see the trends\n",
    "4: Analysis...lesson learned\n",
    "5: Presentation \n",
    "6: Celebrate and go for beer \n"
   ]
  }
 ],
 "metadata": {
  "kernelspec": {
   "display_name": "Python 3",
   "language": "python",
   "name": "python3"
  },
  "language_info": {
   "codemirror_mode": {
    "name": "ipython",
    "version": 3
   },
   "file_extension": ".py",
   "mimetype": "text/x-python",
   "name": "python",
   "nbconvert_exporter": "python",
   "pygments_lexer": "ipython3",
   "version": "3.6.2"
  }
 },
 "nbformat": 4,
 "nbformat_minor": 2
}
