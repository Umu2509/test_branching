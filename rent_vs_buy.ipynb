{
 "cells": [
  {
   "cell_type": "code",
   "execution_count": 1,
   "metadata": {},
   "outputs": [],
   "source": [
    "#import dependencies\n",
    "import matplotlib.pyplot as plt\n",
    "import matplotlib.patches as mpatches\n",
    "import pandas as pd\n",
    "import numpy as np"
   ]
  },
  {
   "cell_type": "code",
   "execution_count": 2,
   "metadata": {},
   "outputs": [],
   "source": [
    "#get data from previous notebook for consistency\n",
    "travis_housing_tenure = \"Travis_County_Data/Housing_Tenure.csv\"\n",
    "williamson_tenure = \"williamson_data/williamson_tenure.csv\"\n",
    "hays_housing_tenure = \"hays_data/hays_housing_tenure.csv\"\n",
    "\n",
    "hays_housing_tenure_data_df = pd.read_csv(hays_housing_tenure,thousands = \",\")\n",
    "travis_housing_tenure_data_df = pd.read_csv(travis_housing_tenure)\n",
    "williamson_tenure_data_df = pd.read_csv(williamson_tenure,sep='\\t',thousands = \",\")\n",
    "\n",
    "hays_housing_tenure_data_clean_df = hays_housing_tenure_data_df.dropna(how = \"any\")\n",
    "williamson_tenure_data_clean_df = williamson_tenure_data_df.dropna(how = \"any\")\n"
   ]
  },
  {
   "cell_type": "code",
   "execution_count": 3,
   "metadata": {},
   "outputs": [
    {
     "data": {
      "text/html": [
       "<div>\n",
       "<style scoped>\n",
       "    .dataframe tbody tr th:only-of-type {\n",
       "        vertical-align: middle;\n",
       "    }\n",
       "\n",
       "    .dataframe tbody tr th {\n",
       "        vertical-align: top;\n",
       "    }\n",
       "\n",
       "    .dataframe thead th {\n",
       "        text-align: right;\n",
       "    }\n",
       "</style>\n",
       "<table border=\"1\" class=\"dataframe\">\n",
       "  <thead>\n",
       "    <tr style=\"text-align: right;\">\n",
       "      <th></th>\n",
       "      <th>HOUSING TENURE</th>\n",
       "      <th>2006</th>\n",
       "      <th>2007</th>\n",
       "      <th>2008</th>\n",
       "      <th>2009</th>\n",
       "      <th>2010</th>\n",
       "      <th>2011</th>\n",
       "      <th>2012</th>\n",
       "      <th>2013</th>\n",
       "      <th>2014</th>\n",
       "      <th>2015</th>\n",
       "      <th>2016</th>\n",
       "    </tr>\n",
       "  </thead>\n",
       "  <tbody>\n",
       "    <tr>\n",
       "      <th>1</th>\n",
       "      <td>Owner-occupied</td>\n",
       "      <td>27106</td>\n",
       "      <td>29272</td>\n",
       "      <td>31367</td>\n",
       "      <td>32946</td>\n",
       "      <td>37412</td>\n",
       "      <td>36861</td>\n",
       "      <td>37764</td>\n",
       "      <td>39751</td>\n",
       "      <td>38945</td>\n",
       "      <td>41317</td>\n",
       "      <td>43597</td>\n",
       "    </tr>\n",
       "  </tbody>\n",
       "</table>\n",
       "</div>"
      ],
      "text/plain": [
       "   HOUSING TENURE   2006   2007   2008   2009   2010   2011   2012   2013  \\\n",
       "1  Owner-occupied  27106  29272  31367  32946  37412  36861  37764  39751   \n",
       "\n",
       "    2014   2015   2016  \n",
       "1  38945  41317  43597  "
      ]
     },
     "execution_count": 3,
     "metadata": {},
     "output_type": "execute_result"
    }
   ],
   "source": [
    "#hays_owners\n",
    "owned_hays = hays_housing_tenure_data_df.drop([0,2])\n",
    "owned_hays"
   ]
  },
  {
   "cell_type": "code",
   "execution_count": 4,
   "metadata": {},
   "outputs": [
    {
     "data": {
      "text/html": [
       "<div>\n",
       "<style scoped>\n",
       "    .dataframe tbody tr th:only-of-type {\n",
       "        vertical-align: middle;\n",
       "    }\n",
       "\n",
       "    .dataframe tbody tr th {\n",
       "        vertical-align: top;\n",
       "    }\n",
       "\n",
       "    .dataframe thead th {\n",
       "        text-align: right;\n",
       "    }\n",
       "</style>\n",
       "<table border=\"1\" class=\"dataframe\">\n",
       "  <thead>\n",
       "    <tr style=\"text-align: right;\">\n",
       "      <th></th>\n",
       "      <th>HOUSING TENURE</th>\n",
       "      <th>2006</th>\n",
       "      <th>2007</th>\n",
       "      <th>2008</th>\n",
       "      <th>2009</th>\n",
       "      <th>2010</th>\n",
       "      <th>2011</th>\n",
       "      <th>2012</th>\n",
       "      <th>2013</th>\n",
       "      <th>2014</th>\n",
       "      <th>2015</th>\n",
       "      <th>2016</th>\n",
       "    </tr>\n",
       "  </thead>\n",
       "  <tbody>\n",
       "    <tr>\n",
       "      <th>2</th>\n",
       "      <td>Renter-occupied</td>\n",
       "      <td>15444</td>\n",
       "      <td>15531</td>\n",
       "      <td>15641</td>\n",
       "      <td>15763</td>\n",
       "      <td>17010</td>\n",
       "      <td>19893</td>\n",
       "      <td>19631</td>\n",
       "      <td>20988</td>\n",
       "      <td>24552</td>\n",
       "      <td>26029</td>\n",
       "      <td>27670</td>\n",
       "    </tr>\n",
       "  </tbody>\n",
       "</table>\n",
       "</div>"
      ],
      "text/plain": [
       "    HOUSING TENURE   2006   2007   2008   2009   2010   2011   2012   2013  \\\n",
       "2  Renter-occupied  15444  15531  15641  15763  17010  19893  19631  20988   \n",
       "\n",
       "    2014   2015   2016  \n",
       "2  24552  26029  27670  "
      ]
     },
     "execution_count": 4,
     "metadata": {},
     "output_type": "execute_result"
    }
   ],
   "source": [
    "#hays renters\n",
    "rented_hays = hays_housing_tenure_data_df.drop([0,1])\n",
    "rented_hays"
   ]
  },
  {
   "cell_type": "code",
   "execution_count": 5,
   "metadata": {},
   "outputs": [
    {
     "data": {
      "text/html": [
       "<div>\n",
       "<style scoped>\n",
       "    .dataframe tbody tr th:only-of-type {\n",
       "        vertical-align: middle;\n",
       "    }\n",
       "\n",
       "    .dataframe tbody tr th {\n",
       "        vertical-align: top;\n",
       "    }\n",
       "\n",
       "    .dataframe thead th {\n",
       "        text-align: right;\n",
       "    }\n",
       "</style>\n",
       "<table border=\"1\" class=\"dataframe\">\n",
       "  <thead>\n",
       "    <tr style=\"text-align: right;\">\n",
       "      <th></th>\n",
       "      <th>HOUSING TENURE</th>\n",
       "      <th>2006</th>\n",
       "      <th>2007</th>\n",
       "      <th>2008</th>\n",
       "      <th>2009</th>\n",
       "      <th>2010</th>\n",
       "      <th>2011</th>\n",
       "      <th>2012</th>\n",
       "      <th>2013</th>\n",
       "      <th>2014</th>\n",
       "      <th>2015</th>\n",
       "      <th>2016</th>\n",
       "    </tr>\n",
       "  </thead>\n",
       "  <tbody>\n",
       "    <tr>\n",
       "      <th>1</th>\n",
       "      <td>Owner-occupied</td>\n",
       "      <td>198701</td>\n",
       "      <td>199550</td>\n",
       "      <td>206170</td>\n",
       "      <td>207109</td>\n",
       "      <td>206912</td>\n",
       "      <td>205261</td>\n",
       "      <td>213091</td>\n",
       "      <td>221657</td>\n",
       "      <td>223202</td>\n",
       "      <td>227913</td>\n",
       "      <td>236286</td>\n",
       "    </tr>\n",
       "  </tbody>\n",
       "</table>\n",
       "</div>"
      ],
      "text/plain": [
       "   HOUSING TENURE    2006    2007    2008    2009    2010    2011    2012  \\\n",
       "1  Owner-occupied  198701  199550  206170  207109  206912  205261  213091   \n",
       "\n",
       "     2013    2014    2015    2016  \n",
       "1  221657  223202  227913  236286  "
      ]
     },
     "execution_count": 5,
     "metadata": {},
     "output_type": "execute_result"
    }
   ],
   "source": [
    "#travis county owned\n",
    "owned_travis = travis_housing_tenure_data_df.drop([0,2])\n",
    "owned_travis"
   ]
  },
  {
   "cell_type": "code",
   "execution_count": 6,
   "metadata": {},
   "outputs": [
    {
     "data": {
      "text/html": [
       "<div>\n",
       "<style scoped>\n",
       "    .dataframe tbody tr th:only-of-type {\n",
       "        vertical-align: middle;\n",
       "    }\n",
       "\n",
       "    .dataframe tbody tr th {\n",
       "        vertical-align: top;\n",
       "    }\n",
       "\n",
       "    .dataframe thead th {\n",
       "        text-align: right;\n",
       "    }\n",
       "</style>\n",
       "<table border=\"1\" class=\"dataframe\">\n",
       "  <thead>\n",
       "    <tr style=\"text-align: right;\">\n",
       "      <th></th>\n",
       "      <th>HOUSING TENURE</th>\n",
       "      <th>2006</th>\n",
       "      <th>2007</th>\n",
       "      <th>2008</th>\n",
       "      <th>2009</th>\n",
       "      <th>2010</th>\n",
       "      <th>2011</th>\n",
       "      <th>2012</th>\n",
       "      <th>2013</th>\n",
       "      <th>2014</th>\n",
       "      <th>2015</th>\n",
       "      <th>2016</th>\n",
       "    </tr>\n",
       "  </thead>\n",
       "  <tbody>\n",
       "    <tr>\n",
       "      <th>2</th>\n",
       "      <td>Renter-occupied</td>\n",
       "      <td>168083</td>\n",
       "      <td>169028</td>\n",
       "      <td>175137</td>\n",
       "      <td>184480</td>\n",
       "      <td>196726</td>\n",
       "      <td>205422</td>\n",
       "      <td>201227</td>\n",
       "      <td>207232</td>\n",
       "      <td>214173</td>\n",
       "      <td>218429</td>\n",
       "      <td>221524</td>\n",
       "    </tr>\n",
       "  </tbody>\n",
       "</table>\n",
       "</div>"
      ],
      "text/plain": [
       "    HOUSING TENURE    2006    2007    2008    2009    2010    2011    2012  \\\n",
       "2  Renter-occupied  168083  169028  175137  184480  196726  205422  201227   \n",
       "\n",
       "     2013    2014    2015    2016  \n",
       "2  207232  214173  218429  221524  "
      ]
     },
     "execution_count": 6,
     "metadata": {},
     "output_type": "execute_result"
    }
   ],
   "source": [
    "#travis county rented\n",
    "rented_travis = travis_housing_tenure_data_df.drop([0,1])\n",
    "rented_travis"
   ]
  },
  {
   "cell_type": "code",
   "execution_count": 7,
   "metadata": {},
   "outputs": [
    {
     "data": {
      "text/html": [
       "<div>\n",
       "<style scoped>\n",
       "    .dataframe tbody tr th:only-of-type {\n",
       "        vertical-align: middle;\n",
       "    }\n",
       "\n",
       "    .dataframe tbody tr th {\n",
       "        vertical-align: top;\n",
       "    }\n",
       "\n",
       "    .dataframe thead th {\n",
       "        text-align: right;\n",
       "    }\n",
       "</style>\n",
       "<table border=\"1\" class=\"dataframe\">\n",
       "  <thead>\n",
       "    <tr style=\"text-align: right;\">\n",
       "      <th></th>\n",
       "      <th>HOUSING TENURE</th>\n",
       "      <th>2007</th>\n",
       "      <th>2008</th>\n",
       "      <th>2009</th>\n",
       "      <th>2010</th>\n",
       "      <th>2011</th>\n",
       "      <th>2012</th>\n",
       "      <th>2013</th>\n",
       "      <th>2014</th>\n",
       "      <th>2015</th>\n",
       "      <th>2016</th>\n",
       "    </tr>\n",
       "  </thead>\n",
       "  <tbody>\n",
       "    <tr>\n",
       "      <th>1</th>\n",
       "      <td>Owner-occupied</td>\n",
       "      <td>88133.0</td>\n",
       "      <td>91626.0</td>\n",
       "      <td>94284.0</td>\n",
       "      <td>100598.0</td>\n",
       "      <td>104671.0</td>\n",
       "      <td>104293.0</td>\n",
       "      <td>112744.0</td>\n",
       "      <td>110714.0</td>\n",
       "      <td>119375.0</td>\n",
       "      <td>117637.0</td>\n",
       "    </tr>\n",
       "  </tbody>\n",
       "</table>\n",
       "</div>"
      ],
      "text/plain": [
       "   HOUSING TENURE     2007     2008     2009      2010      2011      2012  \\\n",
       "1  Owner-occupied  88133.0  91626.0  94284.0  100598.0  104671.0  104293.0   \n",
       "\n",
       "       2013      2014      2015      2016  \n",
       "1  112744.0  110714.0  119375.0  117637.0  "
      ]
     },
     "execution_count": 7,
     "metadata": {},
     "output_type": "execute_result"
    }
   ],
   "source": [
    "#williamson county owned\n",
    "owned_williamson = williamson_tenure_data_clean_df.drop([0,2])\n",
    "owned_williamson"
   ]
  },
  {
   "cell_type": "code",
   "execution_count": 8,
   "metadata": {},
   "outputs": [
    {
     "data": {
      "text/html": [
       "<div>\n",
       "<style scoped>\n",
       "    .dataframe tbody tr th:only-of-type {\n",
       "        vertical-align: middle;\n",
       "    }\n",
       "\n",
       "    .dataframe tbody tr th {\n",
       "        vertical-align: top;\n",
       "    }\n",
       "\n",
       "    .dataframe thead th {\n",
       "        text-align: right;\n",
       "    }\n",
       "</style>\n",
       "<table border=\"1\" class=\"dataframe\">\n",
       "  <thead>\n",
       "    <tr style=\"text-align: right;\">\n",
       "      <th></th>\n",
       "      <th>HOUSING TENURE</th>\n",
       "      <th>2007</th>\n",
       "      <th>2008</th>\n",
       "      <th>2009</th>\n",
       "      <th>2010</th>\n",
       "      <th>2011</th>\n",
       "      <th>2012</th>\n",
       "      <th>2013</th>\n",
       "      <th>2014</th>\n",
       "      <th>2015</th>\n",
       "      <th>2016</th>\n",
       "    </tr>\n",
       "  </thead>\n",
       "  <tbody>\n",
       "    <tr>\n",
       "      <th>2</th>\n",
       "      <td>Renter-occupied</td>\n",
       "      <td>33766.0</td>\n",
       "      <td>36165.0</td>\n",
       "      <td>38697.0</td>\n",
       "      <td>52141.0</td>\n",
       "      <td>52067.0</td>\n",
       "      <td>51922.0</td>\n",
       "      <td>49143.0</td>\n",
       "      <td>54091.0</td>\n",
       "      <td>51612.0</td>\n",
       "      <td>55488.0</td>\n",
       "    </tr>\n",
       "  </tbody>\n",
       "</table>\n",
       "</div>"
      ],
      "text/plain": [
       "    HOUSING TENURE     2007     2008     2009     2010     2011     2012  \\\n",
       "2  Renter-occupied  33766.0  36165.0  38697.0  52141.0  52067.0  51922.0   \n",
       "\n",
       "      2013     2014     2015     2016  \n",
       "2  49143.0  54091.0  51612.0  55488.0  "
      ]
     },
     "execution_count": 8,
     "metadata": {},
     "output_type": "execute_result"
    }
   ],
   "source": [
    "#williamson county rented\n",
    "rented_williamson = williamson_tenure_data_clean_df.drop([0,1])\n",
    "rented_williamson"
   ]
  },
  {
   "cell_type": "code",
   "execution_count": 9,
   "metadata": {},
   "outputs": [
    {
     "data": {
      "text/html": [
       "<div>\n",
       "<style scoped>\n",
       "    .dataframe tbody tr th:only-of-type {\n",
       "        vertical-align: middle;\n",
       "    }\n",
       "\n",
       "    .dataframe tbody tr th {\n",
       "        vertical-align: top;\n",
       "    }\n",
       "\n",
       "    .dataframe thead th {\n",
       "        text-align: right;\n",
       "    }\n",
       "</style>\n",
       "<table border=\"1\" class=\"dataframe\">\n",
       "  <thead>\n",
       "    <tr style=\"text-align: right;\">\n",
       "      <th></th>\n",
       "      <th>2007</th>\n",
       "      <th>2008</th>\n",
       "      <th>2009</th>\n",
       "      <th>2010</th>\n",
       "      <th>2011</th>\n",
       "      <th>2012</th>\n",
       "      <th>2013</th>\n",
       "      <th>2014</th>\n",
       "      <th>2015</th>\n",
       "      <th>2016</th>\n",
       "    </tr>\n",
       "  </thead>\n",
       "  <tbody>\n",
       "    <tr>\n",
       "      <th>0</th>\n",
       "      <td>199550.0</td>\n",
       "      <td>206170.0</td>\n",
       "      <td>207109.0</td>\n",
       "      <td>206912.0</td>\n",
       "      <td>205261.0</td>\n",
       "      <td>213091.0</td>\n",
       "      <td>221657.0</td>\n",
       "      <td>223202.0</td>\n",
       "      <td>227913.0</td>\n",
       "      <td>236286.0</td>\n",
       "    </tr>\n",
       "    <tr>\n",
       "      <th>1</th>\n",
       "      <td>88133.0</td>\n",
       "      <td>91626.0</td>\n",
       "      <td>94284.0</td>\n",
       "      <td>100598.0</td>\n",
       "      <td>104671.0</td>\n",
       "      <td>104293.0</td>\n",
       "      <td>112744.0</td>\n",
       "      <td>110714.0</td>\n",
       "      <td>119375.0</td>\n",
       "      <td>117637.0</td>\n",
       "    </tr>\n",
       "    <tr>\n",
       "      <th>2</th>\n",
       "      <td>29272.0</td>\n",
       "      <td>31367.0</td>\n",
       "      <td>32946.0</td>\n",
       "      <td>37412.0</td>\n",
       "      <td>36861.0</td>\n",
       "      <td>37764.0</td>\n",
       "      <td>39751.0</td>\n",
       "      <td>38945.0</td>\n",
       "      <td>41317.0</td>\n",
       "      <td>43597.0</td>\n",
       "    </tr>\n",
       "  </tbody>\n",
       "</table>\n",
       "</div>"
      ],
      "text/plain": [
       "       2007      2008      2009      2010      2011      2012      2013  \\\n",
       "0  199550.0  206170.0  207109.0  206912.0  205261.0  213091.0  221657.0   \n",
       "1   88133.0   91626.0   94284.0  100598.0  104671.0  104293.0  112744.0   \n",
       "2   29272.0   31367.0   32946.0   37412.0   36861.0   37764.0   39751.0   \n",
       "\n",
       "       2014      2015      2016  \n",
       "0  223202.0  227913.0  236286.0  \n",
       "1  110714.0  119375.0  117637.0  \n",
       "2   38945.0   41317.0   43597.0  "
      ]
     },
     "execution_count": 9,
     "metadata": {},
     "output_type": "execute_result"
    }
   ],
   "source": [
    "#total owned dataframe\n",
    "total_owned = pd.concat([owned_travis,owned_williamson,owned_hays], ignore_index = True)\n",
    "total_owned = total_owned.drop([\"2006\",\"HOUSING TENURE\"], axis = 1) \n",
    "total_owned"
   ]
  },
  {
   "cell_type": "code",
   "execution_count": 10,
   "metadata": {},
   "outputs": [
    {
     "data": {
      "text/plain": [
       "2007    316955.0\n",
       "2008    329163.0\n",
       "2009    334339.0\n",
       "2010    344922.0\n",
       "2011    346793.0\n",
       "2012    355148.0\n",
       "2013    374152.0\n",
       "2014    372861.0\n",
       "2015    388605.0\n",
       "2016    397520.0\n",
       "dtype: float64"
      ]
     },
     "execution_count": 10,
     "metadata": {},
     "output_type": "execute_result"
    }
   ],
   "source": [
    "#get sums of owned for plotting\n",
    "owned_sums = total_owned.sum(axis = 0)\n",
    "owned_sums"
   ]
  },
  {
   "cell_type": "code",
   "execution_count": 11,
   "metadata": {},
   "outputs": [
    {
     "data": {
      "text/html": [
       "<div>\n",
       "<style scoped>\n",
       "    .dataframe tbody tr th:only-of-type {\n",
       "        vertical-align: middle;\n",
       "    }\n",
       "\n",
       "    .dataframe tbody tr th {\n",
       "        vertical-align: top;\n",
       "    }\n",
       "\n",
       "    .dataframe thead th {\n",
       "        text-align: right;\n",
       "    }\n",
       "</style>\n",
       "<table border=\"1\" class=\"dataframe\">\n",
       "  <thead>\n",
       "    <tr style=\"text-align: right;\">\n",
       "      <th></th>\n",
       "      <th>2007</th>\n",
       "      <th>2008</th>\n",
       "      <th>2009</th>\n",
       "      <th>2010</th>\n",
       "      <th>2011</th>\n",
       "      <th>2012</th>\n",
       "      <th>2013</th>\n",
       "      <th>2014</th>\n",
       "      <th>2015</th>\n",
       "      <th>2016</th>\n",
       "    </tr>\n",
       "  </thead>\n",
       "  <tbody>\n",
       "    <tr>\n",
       "      <th>0</th>\n",
       "      <td>169028.0</td>\n",
       "      <td>175137.0</td>\n",
       "      <td>184480.0</td>\n",
       "      <td>196726.0</td>\n",
       "      <td>205422.0</td>\n",
       "      <td>201227.0</td>\n",
       "      <td>207232.0</td>\n",
       "      <td>214173.0</td>\n",
       "      <td>218429.0</td>\n",
       "      <td>221524.0</td>\n",
       "    </tr>\n",
       "    <tr>\n",
       "      <th>1</th>\n",
       "      <td>33766.0</td>\n",
       "      <td>36165.0</td>\n",
       "      <td>38697.0</td>\n",
       "      <td>52141.0</td>\n",
       "      <td>52067.0</td>\n",
       "      <td>51922.0</td>\n",
       "      <td>49143.0</td>\n",
       "      <td>54091.0</td>\n",
       "      <td>51612.0</td>\n",
       "      <td>55488.0</td>\n",
       "    </tr>\n",
       "    <tr>\n",
       "      <th>2</th>\n",
       "      <td>15531.0</td>\n",
       "      <td>15641.0</td>\n",
       "      <td>15763.0</td>\n",
       "      <td>17010.0</td>\n",
       "      <td>19893.0</td>\n",
       "      <td>19631.0</td>\n",
       "      <td>20988.0</td>\n",
       "      <td>24552.0</td>\n",
       "      <td>26029.0</td>\n",
       "      <td>27670.0</td>\n",
       "    </tr>\n",
       "  </tbody>\n",
       "</table>\n",
       "</div>"
      ],
      "text/plain": [
       "       2007      2008      2009      2010      2011      2012      2013  \\\n",
       "0  169028.0  175137.0  184480.0  196726.0  205422.0  201227.0  207232.0   \n",
       "1   33766.0   36165.0   38697.0   52141.0   52067.0   51922.0   49143.0   \n",
       "2   15531.0   15641.0   15763.0   17010.0   19893.0   19631.0   20988.0   \n",
       "\n",
       "       2014      2015      2016  \n",
       "0  214173.0  218429.0  221524.0  \n",
       "1   54091.0   51612.0   55488.0  \n",
       "2   24552.0   26029.0   27670.0  "
      ]
     },
     "execution_count": 11,
     "metadata": {},
     "output_type": "execute_result"
    }
   ],
   "source": [
    "#total rented dataframe\n",
    "total_rented = pd.concat([rented_travis,rented_williamson,rented_hays], ignore_index = True)\n",
    "total_rented = total_rented.drop([\"2006\",\"HOUSING TENURE\"], axis = 1) \n",
    "total_rented"
   ]
  },
  {
   "cell_type": "code",
   "execution_count": 12,
   "metadata": {},
   "outputs": [
    {
     "data": {
      "text/plain": [
       "2007    218325.0\n",
       "2008    226943.0\n",
       "2009    238940.0\n",
       "2010    265877.0\n",
       "2011    277382.0\n",
       "2012    272780.0\n",
       "2013    277363.0\n",
       "2014    292816.0\n",
       "2015    296070.0\n",
       "2016    304682.0\n",
       "dtype: float64"
      ]
     },
     "execution_count": 12,
     "metadata": {},
     "output_type": "execute_result"
    }
   ],
   "source": [
    "#get sums of rented for plotting\n",
    "rented_sums = total_rented.sum(axis = 0)\n",
    "rented_sums"
   ]
  },
  {
   "cell_type": "code",
   "execution_count": 22,
   "metadata": {},
   "outputs": [],
   "source": [
    "total_owned_data = owned_sums.values\n",
    "total_rented_data = rented_sums.values\n",
    "x_axis = np.arange(len(total_owned_data))"
   ]
  },
  {
   "cell_type": "code",
   "execution_count": 23,
   "metadata": {},
   "outputs": [],
   "source": [
    "ax1 = plt.bar(x_axis, total_rented_data, color = \"r\")\n",
    "ax2 = plt.bar(x_axis, total_owned_data, bottom = total_rented_data, color = \"b\")"
   ]
  },
  {
   "cell_type": "code",
   "execution_count": 24,
   "metadata": {},
   "outputs": [],
   "source": [
    "for r1, r2 in zip(ax1, ax2):\n",
    "    h1 = r1.get_height()\n",
    "    h2 = r2.get_height()\n",
    "    plt.text(r1.get_x() + r1.get_width() / 2., h1 / 2., \"%d\" % h1, ha=\"center\", va=\"bottom\", color=\"black\", fontsize=6, fontweight=\"bold\")\n",
    "    plt.text(r2.get_x() + r2.get_width() / 2., h1 + h2 / 2., \"%d\" % h2, ha=\"center\", va=\"bottom\", color=\"black\", fontsize=6, fontweight=\"bold\")"
   ]
  },
  {
   "cell_type": "code",
   "execution_count": 25,
   "metadata": {},
   "outputs": [
    {
     "data": {
      "text/plain": [
       "Text(0.5,1,'Rent Vs Owned in Austin')"
      ]
     },
     "execution_count": 25,
     "metadata": {},
     "output_type": "execute_result"
    }
   ],
   "source": [
    "plt.xticks(x_axis, [\"2007\",\"2008\",\"2009\",\"2010\",\"2011\",\"2012\",\"2013\",\"2014\",\"2015\",\"2016\"])\n",
    "plt.ylim(0,775000,100000)\n",
    "plt.xlabel(\"Year\")\n",
    "plt.ylabel(\"Number of Housing Units\")\n",
    "plt.title(\"Rent Vs Owned in Austin\")"
   ]
  },
  {
   "cell_type": "code",
   "execution_count": 26,
   "metadata": {},
   "outputs": [
    {
     "data": {
      "text/plain": [
       "<matplotlib.legend.Legend at 0x1170f4b38>"
      ]
     },
     "execution_count": 26,
     "metadata": {},
     "output_type": "execute_result"
    }
   ],
   "source": [
    "#for legend\n",
    "red_patch = mpatches.Patch(color = \"r\", label = \"Rented\")\n",
    "blue_patch = mpatches.Patch(color = \"b\", label = \"Owned\")\n",
    "plt.legend(handles = [blue_patch,red_patch], loc = \"best\")"
   ]
  },
  {
   "cell_type": "code",
   "execution_count": 27,
   "metadata": {},
   "outputs": [],
   "source": [
    "plt.savefig(\"Saved_Pngs/rented_vs_owned.png\")"
   ]
  },
  {
   "cell_type": "code",
   "execution_count": 28,
   "metadata": {},
   "outputs": [
    {
     "data": {
      "image/png": "[encoded data removed]",
      "text/plain": [
       "<matplotlib.figure.Figure at 0x117150978>"
      ]
     },
     "metadata": {},
     "output_type": "display_data"
    }
   ],
   "source": [
    "plt.show()"
   ]
  },
  {
   "cell_type": "code",
   "execution_count": null,
   "metadata": {},
   "outputs": [],
   "source": []
  }
 ],
 "metadata": {
  "kernelspec": {
   "display_name": "Python 3",
   "language": "python",
   "name": "python3"
  },
  "language_info": {
   "codemirror_mode": {
    "name": "ipython",
    "version": 3
   },
   "file_extension": ".py",
   "mimetype": "text/x-python",
   "name": "python",
   "nbconvert_exporter": "python",
   "pygments_lexer": "ipython3",
   "version": "3.6.3"
  }
 },
 "nbformat": 4,
 "nbformat_minor": 2
}
