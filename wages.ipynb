{
 "cells": [
  {
   "cell_type": "code",
   "execution_count": 45,
   "metadata": {
    "collapsed": true
   },
   "outputs": [],
   "source": [
    "# Dependencies and Setup\n",
    "import matplotlib.pyplot as plt\n",
    "import pandas as pd\n",
    "import numpy as np\n",
    "import scipy.stats as stats\n",
    "from scipy.stats.stats import pearsonr"
   ]
  },
  {
   "cell_type": "code",
   "execution_count": 46,
   "metadata": {
    "scrolled": true
   },
   "outputs": [
    {
     "data": {
      "text/html": [
       "<div>\n",
       "<style>\n",
       "    .dataframe thead tr:only-child th {\n",
       "        text-align: right;\n",
       "    }\n",
       "\n",
       "    .dataframe thead th {\n",
       "        text-align: left;\n",
       "    }\n",
       "\n",
       "    .dataframe tbody tr th {\n",
       "        vertical-align: top;\n",
       "    }\n",
       "</style>\n",
       "<table border=\"1\" class=\"dataframe\">\n",
       "  <thead>\n",
       "    <tr style=\"text-align: right;\">\n",
       "      <th></th>\n",
       "      <th>VALUE</th>\n",
       "      <th>2007</th>\n",
       "      <th>2008</th>\n",
       "      <th>2009</th>\n",
       "      <th>2010</th>\n",
       "      <th>2011</th>\n",
       "      <th>2012</th>\n",
       "      <th>2013</th>\n",
       "      <th>2014</th>\n",
       "      <th>2015</th>\n",
       "      <th>2016</th>\n",
       "    </tr>\n",
       "  </thead>\n",
       "  <tbody>\n",
       "    <tr>\n",
       "      <th>0</th>\n",
       "      <td>Median (dollars)</td>\n",
       "      <td>182133.00000</td>\n",
       "      <td>180400.00000</td>\n",
       "      <td>184833.00000</td>\n",
       "      <td>189233.00000</td>\n",
       "      <td>185567.00000</td>\n",
       "      <td>192033.00000</td>\n",
       "      <td>203667.00000</td>\n",
       "      <td>213767</td>\n",
       "      <td>236000.00000</td>\n",
       "      <td>256200.00000</td>\n",
       "    </tr>\n",
       "    <tr>\n",
       "      <th>1</th>\n",
       "      <td>Per capita personal income (dollars) 2/</td>\n",
       "      <td>37399.33333</td>\n",
       "      <td>39213.66667</td>\n",
       "      <td>36980.33333</td>\n",
       "      <td>37788.66667</td>\n",
       "      <td>40167.33333</td>\n",
       "      <td>41676.66667</td>\n",
       "      <td>42026.66667</td>\n",
       "      <td>44571</td>\n",
       "      <td>46901.66667</td>\n",
       "      <td>47430.33333</td>\n",
       "    </tr>\n",
       "  </tbody>\n",
       "</table>\n",
       "</div>"
      ],
      "text/plain": [
       "                                     VALUE          2007          2008  \\\n",
       "0                         Median (dollars)  182133.00000  180400.00000   \n",
       "1  Per capita personal income (dollars) 2/   37399.33333   39213.66667   \n",
       "\n",
       "           2009          2010          2011          2012          2013  \\\n",
       "0  184833.00000  189233.00000  185567.00000  192033.00000  203667.00000   \n",
       "1   36980.33333   37788.66667   40167.33333   41676.66667   42026.66667   \n",
       "\n",
       "     2014          2015          2016  \n",
       "0  213767  236000.00000  256200.00000  \n",
       "1   44571   46901.66667   47430.33333  "
      ]
     },
     "execution_count": 46,
     "metadata": {},
     "output_type": "execute_result"
    }
   ],
   "source": [
    "house_value_income = \"avg_house_cost_income_merged.csv\"\n",
    "house_value_income_data = pd.read_csv(house_value_income)\n",
    "house_value_income_data"
   ]
  },
  {
   "cell_type": "code",
   "execution_count": 47,
   "metadata": {
    "collapsed": true
   },
   "outputs": [],
   "source": [
    "# Set the 'Country Code' to be our index for easy referencing of rows\n",
    "house_value_income_data = house_value_income_data.set_index(\"VALUE\")"
   ]
  },
  {
   "cell_type": "code",
   "execution_count": 48,
   "metadata": {},
   "outputs": [
    {
     "data": {
      "text/plain": [
       "array([2007, 2008, 2009, 2010, 2011, 2012, 2013, 2014, 2015, 2016])"
      ]
     },
     "execution_count": 48,
     "metadata": {},
     "output_type": "execute_result"
    }
   ],
   "source": [
    "years = np.array([2007, 2008, 2009, 2010, 2011, 2012, 2013, 2014, 2015, 2016])\n",
    "years"
   ]
  },
  {
   "cell_type": "code",
   "execution_count": 49,
   "metadata": {},
   "outputs": [
    {
     "data": {
      "image/png": "[encoded data removed]",
      "text/plain": [
       "<matplotlib.figure.Figure at 0x24fae7c2f98>"
      ]
     },
     "metadata": {},
     "output_type": "display_data"
    }
   ],
   "source": [
    "# Plot the world average as a line chart\n",
    "median, = plt.plot(years, house_value_income_data.loc[\"Median (dollars)\"], color=\"red\", label=\"Average House Cost\" )\n",
    "\n",
    "# Plot the unemployment values for a single country\n",
    "income, = plt.plot(years, house_value_income_data.loc[\"Per capita personal income (dollars) 2/\"], color=\"green\",label=\"Per Capita Personal Income\")\n",
    "\n",
    "# Create a legend for our chart\n",
    "plt.legend(handles=[median, income], loc=\"best\")\n",
    "plt.title(\"Austin Housing Costs vs. Per Capita Income\")\n",
    "plt.ylabel(\"Dollars ($)\")\n",
    "plt.xlabel(\"Year\")\n",
    "plt.savefig(\"Saved_Pngs/percapita_vs_value.png\")\n",
    "\n",
    "# Show the chart\n",
    "plt.show()"
   ]
  },
  {
   "cell_type": "code",
   "execution_count": 50,
   "metadata": {},
   "outputs": [
    {
     "name": "stdout",
     "output_type": "stream",
     "text": [
      "202383.3\n",
      "41415.566667\n"
     ]
    }
   ],
   "source": [
    "house_cost_mean = house_value_income_data.loc[\"Median (dollars)\"].mean()\n",
    "personal_income_mean = house_value_income_data.loc[\"Per capita personal income (dollars) 2/\"].mean()\n",
    "print(house_cost_mean)\n",
    "print(personal_income_mean)"
   ]
  },
  {
   "cell_type": "code",
   "execution_count": 51,
   "metadata": {},
   "outputs": [
    {
     "data": {
      "text/plain": [
       "Ttest_indResult(statistic=19.626657461473165, pvalue=6.0142598329950454e-09)"
      ]
     },
     "execution_count": 51,
     "metadata": {},
     "output_type": "execute_result"
    }
   ],
   "source": [
    "stats.ttest_ind(house_value_income_data.loc[\"Median (dollars)\"], house_value_income_data.loc[\"Per capita personal income (dollars) 2/\"], equal_var=False)"
   ]
  },
  {
   "cell_type": "code",
   "execution_count": 52,
   "metadata": {},
   "outputs": [
    {
     "data": {
      "text/plain": [
       "(0.92551980858672023, 0.00012296653685145147)"
      ]
     },
     "execution_count": 52,
     "metadata": {},
     "output_type": "execute_result"
    }
   ],
   "source": [
    "stats.pearsonr(house_value_income_data.loc[\"Median (dollars)\"], house_value_income_data.loc[\"Per capita personal income (dollars) 2/\"])"
   ]
  },
  {
   "cell_type": "code",
   "execution_count": 53,
   "metadata": {},
   "outputs": [],
   "source": [
    "# house_cost_2012_2016 = [192033, 203667, 213767, 236000, 256200]\n",
    "# house_cost_2012_2016_df = pd.DataFrame(data=house_cost_2012_2016)\n",
    "# house_cost_2012_2016_df"
   ]
  },
  {
   "cell_type": "code",
   "execution_count": 54,
   "metadata": {},
   "outputs": [],
   "source": [
    "# wage_2012_2016 = [41676.66, 42026.66, 44571, 46901.66, 47430.33]\n",
    "# wage_2012_2016_df = pd.DataFrame(data=wage_2012_2016)\n",
    "# wage_2012_2016_df"
   ]
  },
  {
   "cell_type": "code",
   "execution_count": 55,
   "metadata": {},
   "outputs": [],
   "source": [
    "# house_cost_2012_2016"
   ]
  },
  {
   "cell_type": "code",
   "execution_count": 56,
   "metadata": {},
   "outputs": [],
   "source": [
    "# wage_2012_2016"
   ]
  },
  {
   "cell_type": "code",
   "execution_count": 57,
   "metadata": {},
   "outputs": [],
   "source": [
    "# stats.pearsonr(house_cost_2012_2016, wage_2012_2016)"
   ]
  }
 ],
 "metadata": {
  "kernelspec": {
   "display_name": "Python 3",
   "language": "python",
   "name": "python3"
  },
  "language_info": {
   "codemirror_mode": {
    "name": "ipython",
    "version": 3
   },
   "file_extension": ".py",
   "mimetype": "text/x-python",
   "name": "python",
   "nbconvert_exporter": "python",
   "pygments_lexer": "ipython3",
   "version": "3.6.2"
  }
 },
 "nbformat": 4,
 "nbformat_minor": 2
}
